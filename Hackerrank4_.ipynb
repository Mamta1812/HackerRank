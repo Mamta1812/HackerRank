{
  "nbformat": 4,
  "nbformat_minor": 0,
  "metadata": {
    "colab": {
      "provenance": []
    },
    "kernelspec": {
      "name": "python3",
      "display_name": "Python 3"
    },
    "language_info": {
      "name": "python"
    }
  },
  "cells": [
    {
      "cell_type": "markdown",
      "source": [
        "Task\n",
        "\n",
        "You are given a string .\n",
        "Your task is to find out if the string  contains: alphanumeric characters, alphabetical characters, digits, lowercase and uppercase characters."
      ],
      "metadata": {
        "id": "IfnB8bu_caNI"
      }
    },
    {
      "cell_type": "code",
      "source": [
        "def analyze_string(s):\n",
        "\n",
        "  analysis = {\n",
        "      'alphanumeric': False,\n",
        "      'alphabetical': False,\n",
        "      'digits': False,\n",
        "      'lowercase': False,\n",
        "      'uppercase': False,\n",
        "  }\n",
        "\n",
        "  for char in s:\n",
        "    if char.isalnum():\n",
        "      analysis['alphanumeric'] = True\n",
        "      analysis['alphabetical'] = analysis['alphabetical'] or char.isalpha()\n",
        "      analysis['digits'] = analysis['digits'] or char.isdigit()\n",
        "    if char.isalpha():\n",
        "      analysis['lowercase'] = analysis['lowercase'] or char.islower()\n",
        "      analysis['uppercase'] = analysis['uppercase'] or char.isupper()\n",
        "\n",
        "  return analysis\n",
        "\n",
        "if __name__ == '__main__':\n",
        "  s = input(\"Enter a string: \")\n",
        "  analysis = analyze_string(s)\n",
        "\n",
        "\n",
        "  for key, value in analysis.items(): # analysis.item iteare over the dictionary and gives seperatly a key and its value store so that loop can iterate over it .\n",
        "    print(f\"{value}\")"
      ],
      "metadata": {
        "colab": {
          "base_uri": "https://localhost:8080/"
        },
        "id": "PgVtk5e5Pkdg",
        "outputId": "5dcc9eed-3e27-44c5-fba3-5152893f4827"
      },
      "execution_count": null,
      "outputs": [
        {
          "output_type": "stream",
          "name": "stdout",
          "text": [
            "Enter a string: qA3\n",
            "True\n",
            "True\n",
            "True\n",
            "True\n",
            "True\n"
          ]
        }
      ]
    },
    {
      "cell_type": "markdown",
      "source": [
        "2. Checking for Alphanumeric Characters:\n",
        "\n",
        "It asks if char.isalnum(). This checks if the current character is alphanumeric, meaning it's either a letter (A-Z, a-z) or a digit (0-9).\n",
        "\n",
        "If it is alphanumeric, it does a few things:\n",
        "\n",
        "It sets analysis['alphanumeric'] to True to confirm that there are alphanumeric characters in the string.\n",
        "\n",
        "It updates analysis['alphabetical'] to True only if the character is also a letter (char.isalpha()). This helps track alphabetical characters specifically.\n",
        "\n",
        "It updates analysis['digits'] to True only if the character is also a digit (char.isdigit()). This helps track digits specifically.\n",
        "\n",
        "3. Checking for Alphabetical Characters:\n",
        "\n",
        "It then asks if char.isalpha(). This checks if the character is a letter (either lowercase or uppercase).\n",
        "\n",
        "If it's a letter:\n",
        "\n",
        "It sets analysis['lowercase'] to True if the character is lowercase (char.islower()) or leaves it as False otherwise.\n",
        "\n",
        "It sets analysis['uppercase'] to True if the character is uppercase (char.isupper()) or leaves it as False otherwise.\n",
        "\n",
        "If analysis['alphabetical'] is currently False (meaning no letters have been found yet):\n",
        "\n",
        "The or operator evaluates char.isalpha().\n",
        "If the current character is indeed a letter, char.isalpha() will return True, and the entire expression becomes True. This updates analysis['alphabetical'] to True, indicating that the first letter has been found.\n",
        "\n",
        "If the current character is not a letter, char.isalpha() will return False, and the entire expression remains False. analysis['alphabetical'] will not be changed yet.\n",
        "\n",
        "\n",
        "What 'analysis.item()' do is :\n",
        "\n",
        "fruits = {\n",
        "    \"apple\": \"red\",\n",
        "    \"banana\": \"yellow\",\n",
        "    \"orange\": \"orange\"\n",
        "}\n",
        "\n",
        "for fruit, color in fruits.items():  # Looping through key-value pairs\n",
        "    \n",
        "    print(f\"The {fruit} is {color}.\")\n",
        "\n",
        "it basically iterates over the dictionary and gives each key value pair seperatly ."
      ],
      "metadata": {
        "id": "5dOeUEavVQeJ"
      }
    },
    {
      "cell_type": "markdown",
      "source": [
        "\n",
        "\n",
        "\n",
        "\n",
        "Task\n",
        "\n",
        "You are given a partial code that is used for generating the HackerRank Logo of variable thickness.\n",
        "Your task is to replace the blank (______) with rjust, ljust or center."
      ],
      "metadata": {
        "id": "yT5KTDTGcjbb"
      }
    },
    {
      "cell_type": "code",
      "source": [
        "thickness = int(input()) #This must be an odd number\n",
        "c = 'H'\n",
        "for i in range(thickness):\n",
        "    print((c*i).rjust(thickness-1)+c+(c*i).ljust(thickness-1))\n",
        "\n",
        "for i in range(thickness+1):  print((c*thickness).center(thickness*2)+(c*thickness).center(thickness*6))\n",
        "\n",
        "for i in range((thickness+1)//2):\n",
        "    print((c*thickness*5).center(thickness*6))\n",
        "\n",
        "for i in range(thickness+1): print((c*thickness).center(thickness*2)+(c*thickness).center(thickness*6))\n",
        "\n",
        "for i in range(thickness):  print(((c*(thickness-i-1)).rjust(thickness)+c+(c*(thickness-i-1)).ljust(thickness)).rjust(thickness*6))"
      ],
      "metadata": {
        "colab": {
          "base_uri": "https://localhost:8080/"
        },
        "id": "Eebat6g_ved5",
        "outputId": "c8cb2794-fc91-41d6-b363-38e97fb39f9e"
      },
      "execution_count": null,
      "outputs": [
        {
          "output_type": "stream",
          "name": "stdout",
          "text": [
            "5\n",
            "    H    \n",
            "   HHH   \n",
            "  HHHHH  \n",
            " HHHHHHH \n",
            "HHHHHHHHH\n",
            "  HHHHH               HHHHH             \n",
            "  HHHHH               HHHHH             \n",
            "  HHHHH               HHHHH             \n",
            "  HHHHH               HHHHH             \n",
            "  HHHHH               HHHHH             \n",
            "  HHHHH               HHHHH             \n",
            "  HHHHHHHHHHHHHHHHHHHHHHHHH   \n",
            "  HHHHHHHHHHHHHHHHHHHHHHHHH   \n",
            "  HHHHHHHHHHHHHHHHHHHHHHHHH   \n",
            "  HHHHH               HHHHH             \n",
            "  HHHHH               HHHHH             \n",
            "  HHHHH               HHHHH             \n",
            "  HHHHH               HHHHH             \n",
            "  HHHHH               HHHHH             \n",
            "  HHHHH               HHHHH             \n",
            "                    HHHHHHHHH \n",
            "                     HHHHHHH  \n",
            "                      HHHHH   \n",
            "                       HHH    \n",
            "                        H     \n"
          ]
        }
      ]
    },
    {
      "cell_type": "markdown",
      "source": [
        "Task\n",
        "\n",
        "You are given a string  and width .\n",
        "Your task is to wrap the string into a paragraph of width .\n",
        "\n",
        "Function Description\n",
        "\n",
        "Complete the wrap function in the editor below.\n",
        "\n",
        "wrap has the following parameters:\n",
        "\n",
        "string string: a long string\n",
        "int max_width: the width to wrap to"
      ],
      "metadata": {
        "id": "wQSsZmvV-sMW"
      }
    },
    {
      "cell_type": "code",
      "source": [
        "import textwrap\n",
        "\n",
        "def wrap(string, max_width):\n",
        "     return textwrap.fill(string, max_width)\n",
        "\n",
        "\n",
        "if __name__ == '__main__':\n",
        "    string, max_width = input(), int(input())\n",
        "    result = wrap(string, max_width)\n",
        "    print(result)"
      ],
      "metadata": {
        "colab": {
          "base_uri": "https://localhost:8080/"
        },
        "id": "-sWbofIp-td1",
        "outputId": "80786282-874a-41b3-c6ce-e8dae1688138"
      },
      "execution_count": null,
      "outputs": [
        {
          "output_type": "stream",
          "name": "stdout",
          "text": [
            "ABCDEFGHIJKLIMNOQRSTUVWXYZ\n",
            "4\n",
            "ABCD\n",
            "EFGH\n",
            "IJKL\n",
            "IMNO\n",
            "QRST\n",
            "UVWX\n",
            "YZ\n"
          ]
        }
      ]
    },
    {
      "cell_type": "markdown",
      "source": [
        "Mr. Vincent works in a door mat manufacturing company. One day, he designed a new door mat with the following specifications:\n",
        "\n",
        "Mat size must be N X M. (N is an odd natural number, and M is 3 times N.)\n",
        "The design should have 'WELCOME' written in the center.\n",
        "The design pattern should only use |, . and - characters.\n",
        "Sample Designs\n",
        "\n",
        "    Size: 7 x 21\n",
        "    ---------.|.---------\n",
        "    ------.|..|..|.------\n",
        "    ---.|..|..|..|..|.---\n",
        "    -------WELCOME-------\n",
        "    ---.|..|..|..|..|.---\n",
        "    ------.|..|..|.------\n",
        "    ---------.|.---------"
      ],
      "metadata": {
        "id": "ZLk2mSU5EdAH"
      }
    },
    {
      "cell_type": "code",
      "source": [
        "n, m = map(int,input().split())\n",
        "for i in range(n//2):\n",
        "    j = int((2*i)+1)\n",
        "    print(('.|.'*j).center(m, '-'))\n",
        "print('WELCOME'.center(m,'-'))\n",
        "for i in reversed(range(n//2)):\n",
        "    j = int((2*i)+1)\n",
        "    print(('.|.'*j).center(m, '-'))"
      ],
      "metadata": {
        "id": "FQR92qy6EcrG"
      },
      "execution_count": null,
      "outputs": []
    }
  ]
}