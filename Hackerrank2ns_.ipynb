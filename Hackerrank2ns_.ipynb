{
  "nbformat": 4,
  "nbformat_minor": 0,
  "metadata": {
    "colab": {
      "provenance": []
    },
    "kernelspec": {
      "name": "python3",
      "display_name": "Python 3"
    },
    "language_info": {
      "name": "python"
    }
  },
  "cells": [
    {
      "cell_type": "markdown",
      "source": [
        "The included code stub will read an integer,n , from STDIN.\n",
        "\n",
        "Without using any string methods, try to print the following:123...n\n",
        "\n",
        "\n",
        "Note that \"...\" represents the consecutive values in between."
      ],
      "metadata": {
        "id": "yjxoIPA6e6sN"
      }
    },
    {
      "cell_type": "code",
      "execution_count": 11,
      "metadata": {
        "colab": {
          "base_uri": "https://localhost:8080/"
        },
        "id": "RzCM_ZR7e5Pm",
        "outputId": "c8cd41f2-b98a-40f2-fce0-a8ac0fc46110"
      },
      "outputs": [
        {
          "output_type": "stream",
          "name": "stdout",
          "text": [
            "5\n",
            "2 3 6 6 5\n",
            "[2, 3, 5, 6]\n",
            "[2, 3, 5]\n",
            "5\n"
          ]
        }
      ],
      "source": [
        "if __name__ == '__main__':\n",
        "    n = int(input())\n",
        "    arr = list(set(map(int, input().split())))\n",
        "    print(arr)\n",
        "# remove element by value\n",
        "max_score = max(arr)\n",
        "value_to_remove = max_score\n",
        "arr.remove(value_to_remove)\n",
        "print(arr)\n",
        "#now\n",
        "max_score2 = max(arr)\n",
        "print(max_score2)"
      ]
    },
    {
      "cell_type": "code",
      "source": [
        "# this code is the exact code for passing the test case of the Hackerrank testcase.\n",
        "if __name__ == '__main__':\n",
        "    n = int(input())\n",
        "    arr = list(set(map(int, input().split())))\n",
        "\n",
        "# remove element by value\n",
        "max_score = max(arr)\n",
        "value_to_remove = max_score\n",
        "arr.remove(value_to_remove)\n",
        "\n",
        "#now\n",
        "max_score2 = max(arr)\n",
        "print(max_score2)"
      ],
      "metadata": {
        "id": "DYIvgQmzu8bR"
      },
      "execution_count": null,
      "outputs": []
    },
    {
      "cell_type": "markdown",
      "source": [
        "Given the names and grades for each student in a class of  students, store them in a nested list and print the name(s) of any student(s) having the second lowest grade.\n",
        "\n",
        "Note: If there are multiple students with the second lowest grade, order their names alphabetically and print each name on a new line."
      ],
      "metadata": {
        "id": "eGGh_AWEvTZu"
      }
    },
    {
      "cell_type": "code",
      "source": [
        "if __name__ == '__main__':\n",
        "  # Get the number of participants\n",
        "  num_participants = int(input())\n",
        "\n",
        "  # Initialize an empty list to store all participants' data\n",
        "  participants = []\n",
        "\n",
        "  # Loop for each participant\n",
        "  for _ in range(num_participants):\n",
        "    # Get the name\n",
        "    name = input()\n",
        "\n",
        "    # Get the score and convert it to float\n",
        "    score = float(input())\n",
        "\n",
        "    # Create a temporary list for the current participant's data\n",
        "    participant_data = [name, score]\n",
        "\n",
        "    # Append the participant's data to the main list\n",
        "    participants.append(participant_data)\n",
        "    print(participants)\n",
        "\n",
        "    #\n",
        "  x= []\n",
        "  for i in participants :\n",
        "      c = i[1]\n",
        "      x.append(c)\n",
        "  print(x)\n",
        "  y = min(x)\n",
        "  print(y)\n",
        "  n =[]\n",
        "  for l in x:\n",
        "    if l != y:\n",
        "      n.append(l)\n",
        "\n",
        "  print(n)\n",
        "\n",
        "  z = min(n)\n",
        "  print(z)\n",
        "  f = []\n",
        "  for j in participants:\n",
        "    d = j[1]\n",
        "    e = j[0]\n",
        "    if d == z:\n",
        "      f.append(e)\n",
        "  g = sorted(f)\n",
        "  for k in g:\n",
        "    print(k)\n",
        "\n",
        "\n",
        "  #    # Find the participant with the lowest score (using min and key)\n",
        "  # lowest_score_participant = min(participants, key=lambda participant: participant[1])\n",
        "\n",
        "  # # Print the name and score of the participant with the lowest score\n",
        "  # print(\"Participant with the lowest score:\")\n",
        "  # print(f\"Name: {lowest_score_participant[0]}\")\n",
        "  # print(f\"Score: {lowest_score_participant[1]}\")\n",
        "\n",
        "  # # Now you have a list of all participants' data: participants\n",
        "  # # You can use this list for further processing"
      ],
      "metadata": {
        "colab": {
          "base_uri": "https://localhost:8080/"
        },
        "id": "ys2_CjYMyQJ2",
        "outputId": "287e6cdd-3fc6-44cc-e628-3f542b67874a"
      },
      "execution_count": 21,
      "outputs": [
        {
          "output_type": "stream",
          "name": "stdout",
          "text": [
            "4\n",
            "Rachel\n",
            "-50\n",
            "[['Rachel', -50.0]]\n",
            "Mawer\n",
            "-50\n",
            "[['Rachel', -50.0], ['Mawer', -50.0]]\n",
            "Sheen\n",
            "-50\n",
            "[['Rachel', -50.0], ['Mawer', -50.0], ['Sheen', -50.0]]\n",
            "Shaheen\n",
            "51\n",
            "[['Rachel', -50.0], ['Mawer', -50.0], ['Sheen', -50.0], ['Shaheen', 51.0]]\n",
            "[-50.0, -50.0, -50.0, 51.0]\n",
            "-50.0\n",
            "[51.0]\n",
            "51.0\n",
            "Shaheen\n"
          ]
        }
      ]
    },
    {
      "cell_type": "markdown",
      "source": [
        "The bellow code is exact to pass all the test case for the above task of the hackerrank"
      ],
      "metadata": {
        "id": "OEMwA4S6BAlI"
      }
    },
    {
      "cell_type": "code",
      "source": [
        "if __name__ == '__main__':\n",
        "  # Get the number of participants\n",
        "  num_participants = int(input())\n",
        "\n",
        "  # Initialize an empty list to store all participants' data\n",
        "  participants = []\n",
        "\n",
        "  # Loop for each participant\n",
        "  for _ in range(num_participants):\n",
        "    # Get the name\n",
        "    name = input()\n",
        "\n",
        "    # Get the score and convert it to float\n",
        "    score = float(input())\n",
        "\n",
        "    # Create a temporary list for the current participant's data\n",
        "    participant_data = [name, score]\n",
        "\n",
        "    # Append the participant's data to the main list\n",
        "    participants.append(participant_data)\n",
        "\n",
        "\n",
        "    #\n",
        "  x= []\n",
        "  for i in participants :\n",
        "      c = i[1]\n",
        "      x.append(c)\n",
        "\n",
        "  y = min(x)\n",
        "\n",
        "  n =[]\n",
        "  for l in x:\n",
        "    if l != y:\n",
        "      n.append(l)\n",
        "\n",
        "\n",
        "  z = min(n)\n",
        "\n",
        "  f = []\n",
        "  for j in participants:\n",
        "    d = j[1]\n",
        "    e = j[0]\n",
        "    if d == z:\n",
        "      f.append(e)\n",
        "  g = sorted(f)\n",
        "  for k in g:\n",
        "    print(k)"
      ],
      "metadata": {
        "colab": {
          "base_uri": "https://localhost:8080/"
        },
        "id": "f0_JW5LZA8Gh",
        "outputId": "915f7618-be27-4c1e-b30e-19024c31fad3"
      },
      "execution_count": 22,
      "outputs": [
        {
          "output_type": "stream",
          "name": "stdout",
          "text": [
            "5\n",
            "Harry\n",
            "37.21\n",
            "Barry\n",
            "37.21\n",
            "Tina\n",
            "37.2\n",
            "Akriti\n",
            "41\n",
            "Harsh\n",
            "39\n",
            "Barry\n",
            "Harry\n"
          ]
        }
      ]
    },
    {
      "cell_type": "markdown",
      "source": [
        "The provided code stub will read in a dictionary containing key/value pairs of name:[marks] for a list of students. Print the average of the marks array for the student name provided, showing 2 places after the decimal.\n",
        "\n"
      ],
      "metadata": {
        "id": "l54HYgIRCvy_"
      }
    },
    {
      "cell_type": "code",
      "source": [
        "if __name__ == '__main__':\n",
        "    n = int(input())\n",
        "    student_marks = {}\n",
        "    for _ in range(n):\n",
        "        name, *line = input().split()\n",
        "        scores = list(map(float, line))\n",
        "        student_marks[name] = scores\n",
        "    print(student_marks)\n",
        "    query_name = input()\n",
        "    marks = student_marks[query_name]\n",
        "    average_marks = sum(marks)/len(marks)\n",
        "    print(f\"{average_marks:.2f}\")\n",
        ""
      ],
      "metadata": {
        "colab": {
          "base_uri": "https://localhost:8080/"
        },
        "id": "McroOVm1ECL6",
        "outputId": "0160adf1-d3fb-4b00-9af4-d0d875825f63"
      },
      "execution_count": 26,
      "outputs": [
        {
          "output_type": "stream",
          "name": "stdout",
          "text": [
            "2\n",
            "Anurag 26 28 30\n",
            "Harsh 25 26.5 28\n",
            "{'Anurag': [26.0, 28.0, 30.0], 'Harsh': [25.0, 26.5, 28.0]}\n",
            "Harsh\n",
            "26.50\n"
          ]
        }
      ]
    },
    {
      "cell_type": "markdown",
      "source": [
        "this is the question and the above was the example of input and output ,plz give code according to this,Let's learn about list comprehensions! You are given three integers x,y  and z representing the dimensions of a cuboid along with an integer n . Print a list of all possible coordinates given by(i,j,k)  on a 3D grid where the sum of i+j+k   is not equal to n . Here,0<=i<=x;0<=j<=y;0<=k<=z . Please use list\n"
      ],
      "metadata": {
        "id": "sYhD2btAYwQf"
      }
    },
    {
      "cell_type": "code",
      "source": [
        "def find_valid_coordinates():\n",
        "  \"\"\"\n",
        "  This function prompts the user for the dimensions of a cuboid (x, y, z) and\n",
        "  a target sum (n), then finds all valid coordinates (i, j, k) on a 3D grid\n",
        "  where the sum of i, j, and k is not equal to n and returns them as a list of lists.\n",
        "\n",
        "  Returns:\n",
        "    A list of valid coordinates as lists (not tuples).\n",
        "  \"\"\"\n",
        "\n",
        "  # Get user input\n",
        "  x = int(input(\"Enter the length of the cuboid in the x-direction (x): \"))\n",
        "  y = int(input(\"Enter the length of the cuboid in the y-direction (y): \"))\n",
        "  z = int(input(\"Enter the length of the cuboid in the z-direction (z): \"))\n",
        "  n = int(input(\"Enter the target sum to avoid (i + j + k != n): \"))\n",
        "\n",
        "  # Generate all possible coordinates within the given dimensions\n",
        "  coordinates = [[i, j, k] for i in range(x + 1) for j in range(y + 1) for k in range(z + 1)]\n",
        "\n",
        "  # Filter coordinates where the sum is not equal to n\n",
        "  valid_coordinates = [coord for coord in coordinates if sum(coord) != n]\n",
        "\n",
        "  return valid_coordinates\n",
        "\n",
        "# Call the function to find and print the valid coordinates\n",
        "valid_coords = find_valid_coordinates()\n",
        "print(valid_coords)"
      ],
      "metadata": {
        "colab": {
          "base_uri": "https://localhost:8080/"
        },
        "id": "qlormBHqULkP",
        "outputId": "3d3b87cd-ca91-4de8-d6ac-b1e49ee8b8bf"
      },
      "execution_count": 31,
      "outputs": [
        {
          "output_type": "stream",
          "name": "stdout",
          "text": [
            "Enter the length of the cuboid in the x-direction (x): 1\n",
            "Enter the length of the cuboid in the y-direction (y): 1\n",
            "Enter the length of the cuboid in the z-direction (z): 1\n",
            "Enter the target sum to avoid (i + j + k != n): 2\n",
            "[[0, 0, 0], [0, 0, 1], [0, 1, 0], [1, 0, 0], [1, 1, 1]]\n"
          ]
        }
      ]
    },
    {
      "cell_type": "code",
      "source": [
        "def find_valid_coordinates():\n",
        "\n",
        "  # Get user input\n",
        "  x = int(input())\n",
        "  y = int(input())\n",
        "  z = int(input())\n",
        "  n = int(input())\n",
        "\n",
        "  # Generate all possible coordinates within the given dimensions\n",
        "  coordinates = []\n",
        "  for i in range(x + 1):\n",
        "    for j in range(y + 1):\n",
        "      for k in range(z + 1):\n",
        "        coordinates.append([i, j, k])\n",
        "\n",
        "  # Filter coordinates where the sum is not equal to n\n",
        "  valid_coordinates = []\n",
        "  for coord in coordinates :\n",
        "    if sum(coord) != n:\n",
        "      valid_coordinates.append(coord)\n",
        "\n",
        "  return valid_coordinates\n",
        "\n",
        "# Call the function to find and print the valid coordinates\n",
        "valid_coords = find_valid_coordinates()\n",
        "print(valid_coords)"
      ],
      "metadata": {
        "colab": {
          "base_uri": "https://localhost:8080/"
        },
        "id": "3ICCjqSuUvrZ",
        "outputId": "bd968c9f-69ef-466e-9415-3aaf51d8dc9e"
      },
      "execution_count": 32,
      "outputs": [
        {
          "output_type": "stream",
          "name": "stdout",
          "text": [
            "1\n",
            "1\n",
            "1\n",
            "2\n",
            "[[0, 0, 0], [0, 0, 1], [0, 1, 0], [1, 0, 0], [1, 1, 1]]\n"
          ]
        }
      ]
    }
  ]
}