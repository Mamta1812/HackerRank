{
  "nbformat": 4,
  "nbformat_minor": 0,
  "metadata": {
    "colab": {
      "provenance": []
    },
    "kernelspec": {
      "name": "python3",
      "display_name": "Python 3"
    },
    "language_info": {
      "name": "python"
    }
  },
  "cells": [
    {
      "cell_type": "markdown",
      "source": [
        "Task\n",
        "\n",
        "Given an integer, , perform the following conditional actions:\n",
        "\n",
        "If  is odd, print Weird\n",
        "If  is even and in the inclusive range of  2 to 5 , print Not Weird\n",
        "If  is even and in the inclusive range of  6 to 20 , print Weird\n",
        "If  is even and greater than 20, print Not Weird"
      ],
      "metadata": {
        "id": "7Qlqja-oscJz"
      }
    },
    {
      "cell_type": "code",
      "source": [
        "import random\n",
        "import re\n",
        "import sys\n",
        "\n",
        "\n",
        "\n",
        "if __name__ == '__main__':\n",
        "    n = int(input().strip())\n",
        "    if n%2 != 0 :\n",
        "        print(\"Weird\")\n",
        "    elif n%2 == 0 and 2<=n<=5:\n",
        "        print(\"Not Weird\")\n",
        "    elif n%2 == 0 and 6<=n<=20:\n",
        "        print(\"Weird\")\n",
        "    elif n%2 == 0 and n>20:\n",
        "        print(\"Not Weird\")"
      ],
      "metadata": {
        "id": "NIuTndXpr3iB"
      },
      "execution_count": null,
      "outputs": []
    },
    {
      "cell_type": "markdown",
      "source": [
        "Task\n",
        "The provided code stub reads two integers from STDIN,  and . Add code to print three lines where:\n",
        "\n",
        "The first line contains the sum of the two numbers.\n",
        "The second line contains the difference of the two numbers (first - second).\n",
        "The third line contains the product of the two numbers."
      ],
      "metadata": {
        "id": "uRWc-mX-r-sQ"
      }
    },
    {
      "cell_type": "code",
      "source": [
        "if __name__ == '__main__':\n",
        "    a = int(input())\n",
        "    b = int(input())\n",
        "    c = a+b\n",
        "    d = a-b\n",
        "    e = a*b\n",
        "    print(c)\n",
        "    print(d)\n",
        "    print(e)"
      ],
      "metadata": {
        "id": "aTWb3yZirw5a"
      },
      "execution_count": null,
      "outputs": []
    },
    {
      "cell_type": "markdown",
      "source": [
        "Task\n",
        "The provided code stub reads two integers,  and , from STDIN.\n",
        "\n",
        "Add logic to print two lines. The first line should contain the result of integer division, a//b . The second line should contain the result of float division,  a/b ."
      ],
      "metadata": {
        "id": "EgwSPSw5ri3V"
      }
    },
    {
      "cell_type": "code",
      "source": [
        "if __name__ == '__main__':\n",
        "    a = int(input())\n",
        "    b = int(input())\n",
        "    c = a//b\n",
        "    d = a/b\n",
        "    print(c)\n",
        "    print(d)"
      ],
      "metadata": {
        "id": "BKqLLbvarjgO"
      },
      "execution_count": null,
      "outputs": []
    },
    {
      "cell_type": "markdown",
      "source": [
        "Task\n",
        "The provided code stub reads and integer, , from STDIN. For all non-negative integers i<n, print i power 2 ."
      ],
      "metadata": {
        "id": "TWfi_ZRwrLHY"
      }
    },
    {
      "cell_type": "code",
      "source": [
        "if __name__ == '__main__':\n",
        "    n = int(input())\n",
        "    for i in range(n):\n",
        "        c = i*i\n",
        "        print(c)"
      ],
      "metadata": {
        "id": "dzt8UlGsrKPb"
      },
      "execution_count": null,
      "outputs": []
    },
    {
      "cell_type": "markdown",
      "source": [
        "Task\n",
        "\n",
        "Given a year, determine whether it is a leap year. If it is a leap year, return the Boolean True, otherwise return False.v"
      ],
      "metadata": {
        "id": "rTKrjgVIq5wo"
      }
    },
    {
      "cell_type": "code",
      "execution_count": null,
      "metadata": {
        "id": "mByjNDw6qqx4"
      },
      "outputs": [],
      "source": [
        "def is_leap(year):\n",
        "    leap = False\n",
        "\n",
        "    # Write your logic here\n",
        "    if year%4 == 0 :\n",
        "        if year%100 == 0:\n",
        "            if year%400 == 0 :\n",
        "                leap = True\n",
        "        elif year%100 != 0:\n",
        "            if year%4 == 0:\n",
        "                leap = True\n",
        "    return leap\n",
        "\n",
        "year = int(input())"
def is_leap(year):
  leap = False
  if year % 4 == 0:
    if year % 100 == 0:
      if year % 400 == 0:
        leap = True
    elif year % 100 != 0:
      leap = True
  return leap

year = int(input("Enter a year: "))

if is_leap(year):
  print(year, "is a leap year")
else:
  print(year, "is not a leap year")
      ]
    }
  ]
}
