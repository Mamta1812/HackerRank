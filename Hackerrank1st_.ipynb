{
  "nbformat": 4,
  "nbformat_minor": 0,
  "metadata": {
    "colab": {
      "provenance": []
    },
    "kernelspec": {
      "name": "python3",
      "display_name": "Python 3"
    },
    "language_info": {
      "name": "python"
    }
  },
  "cells": [
    {
      "cell_type": "markdown",
      "source": [
        "Task\n",
        "\n",
        "Given an integer, , perform the following conditional actions:\n",
        "\n",
        "If  is odd, print Weird\n",
        "If  is even and in the inclusive range of  2 to 5 , print Not Weird\n",
        "If  is even and in the inclusive range of  6 to 20 , print Weird\n",
        "If  is even and greater than 20, print Not Weird"
      ],
      "metadata": {
        "id": "7Qlqja-oscJz"
      }
    },
    {
      "cell_type": "code",
      "source": [
        "import random\n",
        "import re\n",
        "import sys\n",
        "\n",
        "\n",
        "\n",
        "if __name__ == '__main__':\n",
        "    n = int(input().strip())\n",
        "    if n%2 != 0 :\n",
        "        print(\"Weird\")\n",
        "    elif n%2 == 0 and 2<=n<=5:\n",
        "        print(\"Not Weird\")\n",
        "    elif n%2 == 0 and 6<=n<=20:\n",
        "        print(\"Weird\")\n",
        "    elif n%2 == 0 and n>20:\n",
        "        print(\"Not Weird\")"
      ],
      "metadata": {
        "id": "NIuTndXpr3iB",
        "colab": {
          "base_uri": "https://localhost:8080/"
        },
        "outputId": "ac780754-e2ac-45fd-854d-a37cf3a04c24"
      },
      "execution_count": 11,
      "outputs": [
        {
          "output_type": "stream",
          "name": "stdout",
          "text": [
            "5\n",
            "Weird\n"
          ]
        }
      ]
    },
    {
      "cell_type": "markdown",
      "source": [
        "Task\n",
        "The provided code stub reads two integers from STDIN,  and . Add code to print three lines where:\n",
        "\n",
        "The first line contains the sum of the two numbers.\n",
        "The second line contains the difference of the two numbers (first - second).\n",
        "The third line contains the product of the two numbers."
      ],
      "metadata": {
        "id": "uRWc-mX-r-sQ"
      }
    },
    {
      "cell_type": "code",
      "source": [
        "if __name__ == '__main__':\n",
        "    a = int(input())\n",
        "    b = int(input())\n",
        "    c = a+b\n",
        "    d = a-b\n",
        "    e = a*b\n",
        "    print(c)\n",
        "    print(d)\n",
        "    print(e)"
      ],
      "metadata": {
        "id": "aTWb3yZirw5a",
        "colab": {
          "base_uri": "https://localhost:8080/"
        },
        "outputId": "13f18a08-f62f-4abc-99e6-89e56cd1b8e8"
      },
      "execution_count": 10,
      "outputs": [
        {
          "output_type": "stream",
          "name": "stdout",
          "text": [
            "5\n",
            "6\n",
            "11\n",
            "-1\n",
            "30\n"
          ]
        }
      ]
    },
    {
      "cell_type": "markdown",
      "source": [
        "Task\n",
        "The provided code stub reads two integers,  and , from STDIN.\n",
        "\n",
        "Add logic to print two lines. The first line should contain the result of integer division, a//b . The second line should contain the result of float division,  a/b ."
      ],
      "metadata": {
        "id": "EgwSPSw5ri3V"
      }
    },
    {
      "cell_type": "code",
      "source": [
        "if __name__ == '__main__':\n",
        "    a = int(input())\n",
        "    b = int(input())\n",
        "    c = a//b\n",
        "    d = a/b\n",
        "    print(c)\n",
        "    print(d)"
      ],
      "metadata": {
        "id": "BKqLLbvarjgO",
        "colab": {
          "base_uri": "https://localhost:8080/"
        },
        "outputId": "23564ba9-3d57-448a-f35a-a585f7e95db9"
      },
      "execution_count": 9,
      "outputs": [
        {
          "output_type": "stream",
          "name": "stdout",
          "text": [
            "5\n",
            "2\n",
            "2\n",
            "2.5\n"
          ]
        }
      ]
    },
    {
      "cell_type": "markdown",
      "source": [
        "Task\n",
        "The provided code stub reads and integer, , from STDIN. For all non-negative integers i<n, print i power 2 ."
      ],
      "metadata": {
        "id": "TWfi_ZRwrLHY"
      }
    },
    {
      "cell_type": "code",
      "source": [
        "if __name__ == '__main__':\n",
        "    n = int(input())\n",
        "    for i in range(n):\n",
        "        c = i*i\n",
        "        print(c)"
      ],
      "metadata": {
        "id": "dzt8UlGsrKPb",
        "colab": {
          "base_uri": "https://localhost:8080/"
        },
        "outputId": "c69ad849-38f1-4f1b-f433-d9f2c8e883e0"
      },
      "execution_count": 8,
      "outputs": [
        {
          "output_type": "stream",
          "name": "stdout",
          "text": [
            "5\n",
            "0\n",
            "1\n",
            "4\n",
            "9\n",
            "16\n"
          ]
        }
      ]
    },
    {
      "cell_type": "markdown",
      "source": [
        "Task\n",
        "\n",
        "Given a year, determine whether it is a leap year. If it is a leap year, return the Boolean True, otherwise return False.v"
      ],
      "metadata": {
        "id": "rTKrjgVIq5wo"
      }
    },
    {
      "cell_type": "code",
      "source": [
        "def is_leap(year):\n",
        "  leap = False\n",
        "  if year % 4 == 0:\n",
        "    if year % 100 == 0:\n",
        "      if year % 400 == 0:\n",
        "        leap = True\n",
        "    elif year % 100 != 0:\n",
        "      leap = True\n",
        "  return leap\n",
        "\n",
        "year = int(input(\"Enter a year: \"))\n",
        "\n",
        "if is_leap(year):\n",
        "  print(year, \"is a leap year\")\n",
        "else:\n",
        "  print(year, \"is not a leap year\")"
      ],
      "metadata": {
        "colab": {
          "base_uri": "https://localhost:8080/"
        },
        "id": "-Cp34aLm1ZIk",
        "outputId": "4cbea0b7-f496-4eed-98d2-7395dc5a160f"
      },
      "execution_count": 18,
      "outputs": [
        {
          "output_type": "stream",
          "name": "stdout",
          "text": [
            "Enter a year: 2029\n",
            "2029 is not a leap year\n"
          ]
        }
      ]
    }
  ]
}