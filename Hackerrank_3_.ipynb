{
  "nbformat": 4,
  "nbformat_minor": 0,
  "metadata": {
    "colab": {
      "provenance": []
    },
    "kernelspec": {
      "name": "python3",
      "display_name": "Python 3"
    },
    "language_info": {
      "name": "python"
    }
  },
  "cells": [
    {
      "cell_type": "markdown",
      "source": [
        "Consider a list (list = []). You can perform the following commands:\n",
        "\n",
        "insert i e: Insert integer e at position i .\n",
        "\n",
        "print: Print the list.\n",
        "\n",
        "remove e: Delete the first occurrence of integer e.\n",
        "\n",
        "append e: Insert integer e  at the end of the list.\n",
        "\n",
        "sort: Sort the list.\n",
        "\n",
        "pop: Pop the last element from the list.\n",
        "\n",
        "reverse: Reverse the list.\n",
        "\n",
        "Initialize your list and read in the value of n followed by n lines of commands where each command will be of the 7 types listed above. Iterate through each command in order and perform the corresponding operation on your list."
      ],
      "metadata": {
        "id": "FAFlaacL2buI"
      }
    },
    {
      "cell_type": "code",
      "source": [
        "def process_commands(n):\n",
        "  \"\"\"\n",
        "  Processes n commands on a list.\n",
        "\n",
        "  Args:\n",
        "      n: An integer representing the number of commands.\n",
        "  \"\"\"\n",
        "  my_list = []\n",
        "\n",
        "  for _ in range(n):\n",
        "    command = input().split()\n",
        "\n",
        "    if command[0] == \"insert\":\n",
        "      my_list.insert(int(command[1]), int(command[2]))\n",
        "    elif command[0] == \"print\":\n",
        "      print(my_list)\n",
        "    elif command[0] == \"remove\":\n",
        "      my_list.remove(int(command[1]))\n",
        "    elif command[0] == \"append\":\n",
        "      my_list.append(int(command[1]))\n",
        "    elif command[0] == \"sort\":\n",
        "      my_list.sort()\n",
        "    elif command[0] == \"pop\":\n",
        "      my_list.pop()\n",
        "    elif command[0] == \"reverse\":\n",
        "      my_list.reverse()\n",
        "    else:\n",
        "      print(\"Invalid command\")\n",
        "\n",
        "# Read the number of commands\n",
        "n = int(input())\n",
        "\n",
        "# Process the commands\n",
        "process_commands(n)"
      ],
      "metadata": {
        "colab": {
          "base_uri": "https://localhost:8080/"
        },
        "id": "uMoMcf7n2ana",
        "outputId": "01591e78-94e8-4c30-fc7b-23db076a3210"
      },
      "execution_count": null,
      "outputs": [
        {
          "output_type": "stream",
          "name": "stdout",
          "text": [
            "12\n",
            "insert 0 5\n",
            "insert 1 10\n",
            "insert 0 6\n",
            "print\n",
            "[6, 5, 10]\n",
            "remove 6\n",
            "append 9\n",
            "append 1\n",
            "sort\n",
            "print\n",
            "[1, 5, 9, 10]\n",
            "pop\n",
            "reverse\n",
            "print\n",
            "[9, 5, 1]\n"
          ]
        }
      ]
    },
    {
      "cell_type": "code",
      "execution_count": null,
      "metadata": {
        "colab": {
          "base_uri": "https://localhost:8080/"
        },
        "id": "coke77gf2TEa",
        "outputId": "3faedf7f-74b0-4480-af3b-f4addf324e8d"
      },
      "outputs": [
        {
          "output_type": "stream",
          "name": "stdout",
          "text": [
            "12\n",
            "append 9\n",
            "append 3\n",
            "print\n",
            "[9, 3]\n",
            "pop\n",
            "inser 04\n",
            "Invalid command\n",
            "insert 0 4\n",
            "insert 1 8\n",
            "print\n",
            "[4, 8, 9]\n",
            "reverse\n",
            "append 6\n",
            "remove 9\n",
            "print\n",
            "[8, 4, 6]\n"
          ]
        }
      ],
      "source": [
        "if __name__ == '__main__':\n",
        "\n",
        "\n",
        "    def process_command(N):\n",
        "      my_list = []\n",
        "      for _ in range(N):\n",
        "        command = input().split() # to split the string\n",
        "        if command[0] == \"insert\":\n",
        "            my_list.insert(int(command[1]),(int(command[2])))\n",
        "        elif command[0] == \"print\":\n",
        "            print(my_list)\n",
        "        elif command[0] == \"remove\":\n",
        "            my_list.remove(int(command[1]))\n",
        "        elif command[0] == \"append\":\n",
        "            my_list.append(int(command[1]))\n",
        "        elif command[0] == \"sort\":\n",
        "            my_list.sort()\n",
        "        elif command[0] == \"pop\":\n",
        "            my_list.pop()\n",
        "        elif command[0] == \"reverse\":\n",
        "            my_list.reverse()\n",
        "        else:\n",
        "            print(\"Invalid command\")\n",
        "    N = int(input())\n",
        "    process_command(N)"
      ]
    },
    {
      "cell_type": "markdown",
      "source": [
        "Task\n",
        "Given an integer,n , and n space-separated integers as input, create a tuple,t , of those n integers. Then compute and print the result of hash(t) .\n",
        "\n",
        "Note: hash() is one of the functions in the __builtins__ module, so it need not be imported.\n",
        "\n",
        "Input Format\n",
        "\n",
        "The first line contains an integer,n , denoting the number of elements in the tuple.\n",
        "\n",
        "The second line contains n space-separated integers describing the elements in tuple t.\n",
        "\n",
        "Output Format\n",
        "\n",
        "Print the result of hash(t).\n",
        "\n",
        "Sample Input 0\n",
        "\n",
        "2\n",
        "\n",
        "1 2\n",
        "\n",
        "Sample Output 0\n",
        "\n",
        "3713081631934410656"
      ],
      "metadata": {
        "id": "KeM-cKlAJd8I"
      }
    },
    {
      "cell_type": "code",
      "source": [
        "if __name__ == '__main__':\n",
        "    n = int(input())\n",
        "    integer_list = map(int, input().split())\n"
      ],
      "metadata": {
        "id": "l6SwWxJ0Jmm8"
      },
      "execution_count": null,
      "outputs": []
    },
    {
      "cell_type": "code",
      "source": [
        "# Get the number of elements\n",
        "n = int(input())\n",
        "\n",
        "# Read the space-separated integers\n",
        "integers = map(int, input().split())\n",
        "\n",
        "# Create the tuple from the integers\n",
        "t = tuple(integers)\n",
        "\n",
        "# Calculate and print the hash of the tuple\n",
        "hash(t)"
      ],
      "metadata": {
        "colab": {
          "base_uri": "https://localhost:8080/"
        },
        "id": "Ks7wEdKoJ_cV",
        "outputId": "4d941476-5998-4a03-f35e-0c07687f1bd6"
      },
      "execution_count": null,
      "outputs": [
        {
          "name": "stdout",
          "output_type": "stream",
          "text": [
            "2\n",
            "1 2\n"
          ]
        },
        {
          "output_type": "execute_result",
          "data": {
            "text/plain": [
              "-3550055125485641917"
            ]
          },
          "metadata": {},
          "execution_count": 10
        }
      ]
    },
    {
      "cell_type": "markdown",
      "source": [],
      "metadata": {
        "id": "k72MKGPRLH3e"
      }
    },
    {
      "cell_type": "code",
      "source": [
        "\n",
        "def swap_text(text):\n",
        "  \"\"\"Swaps uppercase and lowercase letters in a string.\n",
        "\n",
        "  Args:\n",
        "      text: The input string.\n",
        "\n",
        "  Returns:\n",
        "      A new string with swapped characters. Prints \"invalid input\"\n",
        "      if the input contains characters other than letters.\n",
        "  \"\"\"\n",
        "  swapped_text = []\n",
        "  for char in text:\n",
        "    if char.isalpha():  # Check if character is a letter\n",
        "      if char.isupper():\n",
        "        swapped_text.append(char.lower())\n",
        "      else:\n",
        "        swapped_text.append(char.upper())\n",
        "    else:\n",
        "      print(\"invalid input\")\n",
        "      return None  # Return None to indicate invalid input\n",
        "\n",
        "  return ''.join(swapped_text)\n",
        "\n",
        "# Example usage\n",
        "text = input()\n",
        "swapped = swap_text(text)\n",
        "\n",
        "if swapped is not None:  # Check if input was valid\n",
        "  print(swapped)"
      ],
      "metadata": {
        "colab": {
          "base_uri": "https://localhost:8080/"
        },
        "id": "MXWSkgaL-pZW",
        "outputId": "2029ae73-a6f8-4d24-91d6-10318cb53a46"
      },
      "execution_count": null,
      "outputs": [
        {
          "output_type": "stream",
          "name": "stdout",
          "text": [
            "HellOworlD\n",
            "hELLoWORLd\n"
          ]
        }
      ]
    },
    {
      "cell_type": "code",
      "source": [
        "def swap_case(s):\n",
        "  swapped_case = []\n",
        "  for char in s:\n",
        "    if char.isupper():\n",
        "        swapped_case.append(char.lower())\n",
        "    else :\n",
        "        swapped_case.append(char.upper())\n",
        "\n",
        "  return ''.join(swapped_case)\n",
        "\n",
        "if __name__ == '__main__':\n",
        "    s = input()\n",
        "    result = swap_case(s)\n",
        "    print(result)"
      ],
      "metadata": {
        "colab": {
          "base_uri": "https://localhost:8080/"
        },
        "id": "Dxc0iz3AHKKx",
        "outputId": "eaa99f5d-c69d-4270-b406-610864888da5"
      },
      "execution_count": null,
      "outputs": [
        {
          "output_type": "stream",
          "name": "stdout",
          "text": [
            "njhhjkHGYUHDVGyagyshgfsdfFGJLfgnmfnDGN7589XLFGHGhkhjhgDD\n",
            "NJHHJKhgyuhdvgYAGYSHGFSDFfgjlFGNMFNdgn7589xlfghgHKHJHGdd\n"
          ]
        }
      ]
    },
    {
      "cell_type": "markdown",
      "source": [
        "Task\n",
        "\n",
        "You are given a string. Split the string on a \" \" (space) delimiter and join using a - hyphen."
      ],
      "metadata": {
        "id": "PkV0AL4BR8SM"
      }
    },
    {
      "cell_type": "code",
      "source": [
        "def split_and_join(line):\n",
        "    split_line = line.split()\n",
        "    c = \"-\".join(split_line)\n",
        "    return c\n",
        "if __name__ == '__main__':\n",
        "    line = input()\n",
        "    result = split_and_join(line)\n",
        "    print(result)"
      ],
      "metadata": {
        "colab": {
          "base_uri": "https://localhost:8080/"
        },
        "id": "aqSf0KkXQMPx",
        "outputId": "21e92f1b-57ad-4dd5-98b9-5cc66cfea0f6"
      },
      "execution_count": null,
      "outputs": [
        {
          "output_type": "stream",
          "name": "stdout",
          "text": [
            "Hello python i like Python\n",
            "Hello-python-i-like-Python\n"
          ]
        }
      ]
    },
    {
      "cell_type": "markdown",
      "source": [
        "Task\n",
        "\n",
        "You are given the firstname and lastname of a person on two different lines. Your task is to read them and print the following:\n",
        "\n",
        "Hello firstname lastname! You just delved into python."
      ],
      "metadata": {
        "id": "GgUNgH5PSUpS"
      }
    },
    {
      "cell_type": "code",
      "source": [
        "#\n",
        "# Complete the 'print_full_name' function below.\n",
        "#\n",
        "# The function is expected to return a STRING.\n",
        "# The function accepts following parameters:\n",
        "#  1. STRING first\n",
        "#  2. STRING last\n",
        "#\n",
        "\n",
        "def print_full_name(first, last):\n",
        "    c = print(f\"Hello {first} {last}! You just delved into python.\")\n",
        "    return c\n",
        "\n",
        "\n",
        "if __name__ == '__main__':\n",
        "    first_name = input()\n",
        "    last_name = input()\n",
        "    print_full_name(first_name, last_name)"
      ],
      "metadata": {
        "id": "IL9-uyRBRw0j"
      },
      "execution_count": null,
      "outputs": []
    },
    {
      "cell_type": "markdown",
      "source": [
        "Task\n",
        "\n",
        "We have seen that lists are mutable (they can be changed), and tuples are immutable (they cannot be changed).\n",
        "\n",
        "Let's try to understand this with an example.\n",
        "\n",
        "You are given an immutable string, and you want to make changes to it."
      ],
      "metadata": {
        "id": "22ikXgXmSwp7"
      }
    },
    {
      "cell_type": "code",
      "source": [
        "def mutate_string(string, position, character):\n",
        "    se = list(string)\n",
        "    se.pop(position)\n",
        "    se.insert(position, character)\n",
        "    d = \"\".join(se)\n",
        "    return d\n",
        "\n",
        "if __name__ == '__main__':\n",
        "    s = input()\n",
        "    i, c = input().split()\n",
        "    s_new = mutate_string(s, int(i), c)\n",
        "    print(s_new)"
      ],
      "metadata": {
        "colab": {
          "base_uri": "https://localhost:8080/"
        },
        "id": "b2L--kpgZ-cd",
        "outputId": "08be1bb1-67be-4cbf-d854-101e8fcc4e3d"
      },
      "execution_count": null,
      "outputs": [
        {
          "output_type": "stream",
          "name": "stdout",
          "text": [
            "abracadabra\n",
            "5 k\n",
            "abrackdabra\n"
          ]
        }
      ]
    },
    {
      "cell_type": "markdown",
      "source": [
        "Task\n",
        "\n",
        "In this challenge, the user enters a string and a substring. You have to print the number of times that the substring occurs in the given string. String traversal will take place from left to right, not from right to left.\n",
        "NOTE: String letters are case-sensitive."
      ],
      "metadata": {
        "id": "VnA_xcjOb-8z"
      }
    },
    {
      "cell_type": "code",
      "source": [
        "def count_substring(string, substring):\n",
        "  \"\"\"Counts the number of times a substring appears in a string (case-sensitive).\n",
        "\n",
        "  This approach iterates through the string character by character to ensure\n",
        "  accurate counting of overlapping occurrences.\n",
        "  \"\"\"\n",
        "\n",
        "  count = 0\n",
        "  string_length = len(string)\n",
        "  substring_length = len(substring)\n",
        "\n",
        "  # Iterate through each character in the string\n",
        "  for i in range(string_length):\n",
        "    # Check if the current character and the following substring match\n",
        "    if string[i:i + substring_length] == substring:\n",
        "      count += 1\n",
        "\n",
        "  return count\n",
        "\n",
        "if __name__ == '__main__':\n",
        "    string = input().strip()\n",
        "    sub_string = input().strip()\n",
        "\n",
        "    count = count_substring(string, sub_string)\n",
        "    print(count)\n",
        "\n",
        "# Sample Output (corrected)\n",
        "print(count)  # Output: 2"
      ],
      "metadata": {
        "colab": {
          "base_uri": "https://localhost:8080/"
        },
        "id": "p-FjKSlTf2Lm",
        "outputId": "9e819ae6-c41f-4f20-fda2-ec06d3394dc4"
      },
      "execution_count": null,
      "outputs": [
        {
          "output_type": "stream",
          "name": "stdout",
          "text": [
            "ABCDCDC\n",
            "CDC\n",
            "2\n"
          ]
        }
      ]
    }
  ]
}